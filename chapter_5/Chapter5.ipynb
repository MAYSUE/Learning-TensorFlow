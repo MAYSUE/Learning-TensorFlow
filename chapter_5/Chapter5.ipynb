{
  "nbformat": 4,
  "nbformat_minor": 0,
  "metadata": {
    "colab": {
      "name": "Chapter5.ipynb",
      "version": "0.3.2",
      "views": {},
      "default_view": {},
      "provenance": []
    },
    "kernelspec": {
      "display_name": "Python 3",
      "language": "python",
      "name": "python3"
    }
  },
  "cells": [
    {
      "metadata": {
        "id": "-JY50zmDEa_q",
        "colab_type": "text"
      },
      "cell_type": "markdown",
      "source": [
        "# Text l : Working with Text and Sequences, and TensorBoard Visualization."
      ]
    },
    {
      "metadata": {
        "id": "uQzoPDzDEa_r",
        "colab_type": "text"
      },
      "cell_type": "markdown",
      "source": [
        "We will be covering recurrent neural network(RNNs) and long short-term memory(LSTM) networks and handle sequences of variable length."
      ]
    },
    {
      "metadata": {
        "id": "9OniZkfWEa_s",
        "colab_type": "text"
      },
      "cell_type": "markdown",
      "source": [
        "### Introduction to Recurrent Neural Networks"
      ]
    },
    {
      "metadata": {
        "id": "chA4xaicEa_u",
        "colab_type": "text"
      },
      "cell_type": "markdown",
      "source": [
        "The basic idea behind RNN models is that each new element in the\n",
        "sequence contributes some new information, which updates the current state of the current state of the model."
      ]
    },
    {
      "metadata": {
        "id": "Mk503JqvEa_v",
        "colab_type": "text"
      },
      "cell_type": "markdown",
      "source": [
        "A fundamental mathematical construct in statistics and probably, which is often \n",
        "used as building block for modelling sequential pattern via \n",
        "machine learning is the Markov chain model. We tend to view our\n",
        "data sequences as \"chains\", with each node in the chain dependent in some way on the\n",
        "previous node, so that \"history\" is not erased but carried on.\n"
      ]
    },
    {
      "metadata": {
        "id": "oKKiJwN9Ea_w",
        "colab_type": "text"
      },
      "cell_type": "markdown",
      "source": [
        "RNN models are the based on this notion of chain structure. As the name\n",
        "implie, recurrent neural nets apply some form of \"loop.\" At some point in time t,\n",
        "the network observes an input x(t)(a word in a sentence) and update its \"state vector\" to h(t) from the \n",
        "previous vector h(t-1). When we process new input (the next word), it will be done in some manner that is dependent on h(t) and thus on\n",
        "the history of the sequence (the previous words we've seen affect our understanding of the current word).\n",
        "                             Recurrent structure can simply be viewed as one long unrolled chain, with each node in the chain performing the same \n",
        "                             kind of processing \"step\" based on the \"message\" it obtains from the output of the previous node."
      ]
    },
    {
      "metadata": {
        "id": "bQGZ7C7pEa_x",
        "colab_type": "text"
      },
      "cell_type": "markdown",
      "source": [
        "# Vanilla RNN Implementation "
      ]
    },
    {
      "metadata": {
        "id": "JPiv-9iAEa_y",
        "colab_type": "text"
      },
      "cell_type": "markdown",
      "source": [
        "We introduce some powerful, fairly low-level tools that Tensorflow provides for working\n",
        "with sequence data, which you can use to implement your own systems.\n",
        "We begin with our basic model mathematically. This mainly consists of defining the\n",
        "recurrence structure - the RNN update step.\n",
        "The update step for our simple vanilla RNN is\n",
        "h(t) = tanh(W(x)x(t) + W(h)h(t-1) + b)\n",
        "where W(h),W(x) and b are weight and bias variables. tanh(.) is the hyperbolic tangent function\n",
        "that has its range in [-1,1] and\n"
      ]
    },
    {
      "metadata": {
        "id": "zTNOOHp-Ea_y",
        "colab_type": "text"
      },
      "cell_type": "markdown",
      "source": [
        "### MNIST image as sequences"
      ]
    },
    {
      "metadata": {
        "id": "wxrIaIoQEa_z",
        "colab_type": "text"
      },
      "cell_type": "markdown",
      "source": [
        "From the previous chapter the architecture of convolutional neural networks makes\n",
        "use of the spatial structure of images, it is revealing to look at the structure of \n",
        "images from different angles by trying to capture in some sense the \"generative process\" that\n",
        "created each image. Intuitively, this all comes down to the notion that nearby areas in \n",
        "images are somehow related, and trying to model this structure.\n",
        "In our MNIST data, this just means that each 28 * 28 pixel image can be viewed as sequence of lengh 28,\n",
        "each element in the sequence a vector of 28 pixels. Then the temporal dependencies in the RNN can be imaged as a scanner \n",
        "head, scanning the image from top to buttom(rows) or left to right (columns)."
      ]
    },
    {
      "metadata": {
        "id": "s4VxXz0TEa_0",
        "colab_type": "text"
      },
      "cell_type": "markdown",
      "source": [
        "We start by loading data, defining some parameters, and creating placeholders for\n",
        "our data:\n",
        "    "
      ]
    },
    {
      "metadata": {
        "id": "0MqHHGWnEa_1",
        "colab_type": "code",
        "colab": {
          "autoexec": {
            "startup": false,
            "wait_interval": 0
          }
        }
      },
      "cell_type": "code",
      "source": [
        "import tensorflow as tf\n",
        "\n",
        "# Import MNIST data\n",
        "from tensorflow.examples.tutorials.mnist import input_data\n",
        "mnist = input_data.read_data_sets(\"/tmp/data\", one_hot=True)\n",
        "\n",
        "#Define some parameters\n",
        "element_size = 28\n",
        "time_steps = 28\n",
        "num_classes = 10\n",
        "batch_size = 128\n",
        "hidden_layer_size = 128\n",
        "\n",
        "# Where to save TensorBoard model summaries\n",
        "LOG_DIR = \"logs/RNN_with_summaries\"\n",
        "\n",
        "# Create placeholders for inputs, labels\n",
        "_inputs = tf.placeholder(tf.float32, shape=[None, time_steps, element_size], name=\"inputs\")\n",
        "\n",
        "y = tf.placeholder(tf.float32, shape=[None, num_classes], name=\"labels\")\n"
      ],
      "execution_count": 0,
      "outputs": []
    },
    {
      "metadata": {
        "id": "Alp4B2tHEa_9",
        "colab_type": "code",
        "colab": {
          "autoexec": {
            "startup": false,
            "wait_interval": 0
          },
          "base_uri": "https://localhost:8080/",
          "height": 16
        },
        "outputId": "78ca46c0-b109-4296-bf5f-ac10aca28999",
        "executionInfo": {
          "status": "ok",
          "timestamp": 1531006041430,
          "user_tz": -60,
          "elapsed": 1341,
          "user": {
            "displayName": "",
            "photoUrl": "",
            "userId": ""
          }
        }
      },
      "cell_type": "code",
      "source": [
        "batch_x, batch_y = mnist.train.next_batch(batch_size)\n",
        "# Reshape data to 28 sequence of 28 pixels\n",
        "batch_x = batch_x.reshape((batch_size, time_steps, element_size))"
      ],
      "execution_count": 2,
      "outputs": []
    },
    {
      "metadata": {
        "id": "h8AmjqDiEa__",
        "colab_type": "code",
        "colab": {
          "autoexec": {
            "startup": false,
            "wait_interval": 0
          },
          "base_uri": "https://localhost:8080/",
          "height": 16
        },
        "outputId": "01865c9b-f699-46a4-e58c-7b7dbe8aa150",
        "executionInfo": {
          "status": "ok",
          "timestamp": 1531006043166,
          "user_tz": -60,
          "elapsed": 738,
          "user": {
            "displayName": "",
            "photoUrl": "",
            "userId": ""
          }
        }
      },
      "cell_type": "code",
      "source": [
        "#This helper function taken from official TensorFlow documentation, \n",
        "# simply add some ops that take care of logging summaries\n",
        "def variable_summaries(var):\n",
        "    with tf.name_scope('summaries'):\n",
        "      mean = tf.reduce_mean(var)\n",
        "      tf.summary.scalar('mean', mean)\n",
        "      with tf.name_scope('stddev'):\n",
        "        stddev = tf.sqrt(tf.reduce_mean(tf.square(var - mean)))\n",
        "      tf.summary.scalar('stddev', stddev)\n",
        "      tf.summary.scalar('max', tf.reduce_max(var))\n",
        "      tf.summary.scalar('min', tf.reduce_min(var))\n",
        "      tf.summary.histogram('histogram', var)\n",
        "      \n",
        "\n",
        "# Weights and bias for input and hidden layer\n",
        "with tf.name_scope('rnn_weights'):\n",
        "        with tf.name_scope(\"W_x\"):\n",
        "            Wx = tf.Variable(tf.zeros([element_size, hidden_layer_size]))\n",
        "            variable_summaries(Wx)\n",
        "        with tf.name_scope(\"W_h\"):\n",
        "            Wh = tf.Variable(tf.zeros([hidden_layer_size, hidden_layer_size]))\n",
        "            variable_summaries(Wh)\n",
        "        with tf.name_scope(\"Bias\"):\n",
        "            b_rnn = tf.Variable(tf.zeros([hidden_layer_size])) \n",
        "            variable_summaries(b_rnn)"
      ],
      "execution_count": 3,
      "outputs": []
    },
    {
      "metadata": {
        "id": "vF98FVFrEbAC",
        "colab_type": "code",
        "colab": {
          "autoexec": {
            "startup": false,
            "wait_interval": 0
          },
          "base_uri": "https://localhost:8080/",
          "height": 16
        },
        "outputId": "f1cdf177-7fc4-432b-bfce-46a8321be4b7",
        "executionInfo": {
          "status": "ok",
          "timestamp": 1531006045126,
          "user_tz": -60,
          "elapsed": 914,
          "user": {
            "displayName": "",
            "photoUrl": "",
            "userId": ""
          }
        }
      },
      "cell_type": "code",
      "source": [
        "def rnn_step(previous_hidden_state,x):\n",
        "    \n",
        "        current_hidden_state = tf.tanh(\n",
        "            tf.matmul(previous_hidden_state, Wh) +\n",
        "            tf.matmul(x, Wx) + b_rnn)\n",
        "\n",
        "        return current_hidden_state\n",
        "           \n",
        "# Processing inputs to work with scan function\n",
        "# Current input shape: (batch_size, time_steps, element_size)\n",
        "processed_input = tf.transpose(_inputs, perm=[1, 0, 2])\n",
        "# Current input shape now: (time_steps,batch_size, element_size)\n"
      ],
      "execution_count": 4,
      "outputs": []
    },
    {
      "metadata": {
        "id": "_UzQm8GREbAF",
        "colab_type": "code",
        "colab": {
          "autoexec": {
            "startup": false,
            "wait_interval": 0
          },
          "base_uri": "https://localhost:8080/",
          "height": 16
        },
        "outputId": "737db7b9-3c6d-4283-efa5-d921257f7465",
        "executionInfo": {
          "status": "ok",
          "timestamp": 1531006047139,
          "user_tz": -60,
          "elapsed": 692,
          "user": {
            "displayName": "",
            "photoUrl": "",
            "userId": ""
          }
        }
      },
      "cell_type": "code",
      "source": [
        "\n",
        "initial_hidden = tf.zeros([batch_size,hidden_layer_size])\n",
        "# Getting all state vectors across time\n",
        "all_hidden_states = tf.scan(rnn_step,\n",
        "                            processed_input,\n",
        "                            initializer=initial_hidden,\n",
        "                            name='states')\n",
        "\n",
        "\n",
        "# Weights for output layers\n",
        "with tf.name_scope('linear_layer_weights') as scope:\n",
        "    with tf.name_scope(\"W_linear\"):\n",
        "        Wl = tf.Variable(tf.truncated_normal([hidden_layer_size,\n",
        "                                              num_classes],\n",
        "                                              mean=0,stddev=.01))\n",
        "        variable_summaries(Wl)\n",
        "    with tf.name_scope(\"Bias_linear\"):\n",
        "        bl = tf.Variable(tf.truncated_normal([num_classes],\n",
        "                                             mean=0,stddev=.01))\n",
        "        variable_summaries(bl)\n"
      ],
      "execution_count": 5,
      "outputs": []
    },
    {
      "metadata": {
        "id": "Sm7QFsMgEbAK",
        "colab_type": "code",
        "colab": {
          "autoexec": {
            "startup": false,
            "wait_interval": 0
          },
          "base_uri": "https://localhost:8080/",
          "height": 16
        },
        "outputId": "4313b302-32f0-49bb-853c-81c40d761e34",
        "executionInfo": {
          "status": "ok",
          "timestamp": 1531006082619,
          "user_tz": -60,
          "elapsed": 883,
          "user": {
            "displayName": "",
            "photoUrl": "",
            "userId": ""
          }
        }
      },
      "cell_type": "code",
      "source": [
        "#Apply linear layer to state vector    \n",
        "def get_linear_layer(hidden_state):\n",
        "\n",
        "    return tf.matmul(hidden_state, Wl) + bl\n",
        "\n",
        "with tf.name_scope('linear_layer_weights') as scope:\n",
        "    #Iterate across time, apply linear layer to all RNN outputs\n",
        "    all_outputs = tf.map_fn(get_linear_layer, all_hidden_states)\n",
        "    #Get Last output -- h_28\n",
        "    output = all_outputs[-1]\n",
        "    tf.summary.histogram('outputs', output)\n",
        "\n",
        "with tf.name_scope('cross_entropy'):\n",
        "    cross_entropy = tf.reduce_mean(tf.nn.softmax_cross_entropy_with_logits_v2(logits=output, labels=y))\n",
        "    tf.summary.scalar('cross_entropy', cross_entropy)\n",
        "\n",
        "with tf.name_scope('train'):\n",
        "    #Using RMSPropOptimizer\n",
        "    train_step = tf.train.RMSPropOptimizer(0.001, 0.9).minimize(cross_entropy)\n",
        "\n",
        "with tf.name_scope('accuracy'):\n",
        "    correct_prediction = tf.equal(tf.argmax(y,1), tf.argmax(output,1))\n",
        "\n",
        "    accuracy = (tf.reduce_mean(tf.cast(correct_prediction, tf.float32)))*100\n",
        "    tf.summary.scalar('accuracy', accuracy)\n"
      ],
      "execution_count": 7,
      "outputs": []
    },
    {
      "metadata": {
        "id": "RB-Kcw2QEbAO",
        "colab_type": "code",
        "colab": {
          "autoexec": {
            "startup": false,
            "wait_interval": 0
          },
          "base_uri": "https://localhost:8080/",
          "height": 200
        },
        "outputId": "aeb32554-914f-40d7-96c5-3a97d9eaa856",
        "executionInfo": {
          "status": "ok",
          "timestamp": 1531006358674,
          "user_tz": -60,
          "elapsed": 274007,
          "user": {
            "displayName": "",
            "photoUrl": "",
            "userId": ""
          }
        }
      },
      "cell_type": "code",
      "source": [
        "\n",
        "# Merge all the summaries\n",
        "merged = tf.summary.merge_all()\n",
        "\n",
        "\n",
        "#Get a small test set  \n",
        "test_data = mnist.test.images[:batch_size].reshape((-1, time_steps,\n",
        "                                                     element_size))\n",
        "test_label = mnist.test.labels[:batch_size]\n",
        "\n",
        "with tf.Session() as sess:\n",
        "    #Write summaries to LOG_DIR -- used by TensorBoard\n",
        "    train_writer = tf.summary.FileWriter(LOG_DIR + '/train',\n",
        "                                         graph=tf.get_default_graph())\n",
        "    test_writer = tf.summary.FileWriter(LOG_DIR + '/test',\n",
        "                                        graph=tf.get_default_graph())\n",
        "    \n",
        "    sess.run(tf.global_variables_initializer())\n",
        "\n",
        "    for i in range(10000):\n",
        "        \n",
        "            batch_x, batch_y = mnist.train.next_batch(batch_size)\n",
        "            # Reshape data to get 28 sequences of 28 pixels\n",
        "            batch_x = batch_x.reshape((batch_size, time_steps,\n",
        "                                       element_size))\n",
        "            summary,_ =sess.run([merged,train_step],\n",
        "                                feed_dict={_inputs:batch_x, y:batch_y})\n",
        "            #Add to summaries\n",
        "            train_writer.add_summary(summary, i)\n",
        "            \n",
        "            if i % 1000 == 0:\n",
        "                acc,loss, = sess.run([accuracy,cross_entropy],\n",
        "                                     feed_dict={_inputs: batch_x,\n",
        "                                                y: batch_y})\n",
        "                print (\"Iter \" + str(i) + \", Minibatch Loss= \" + \\\n",
        "                      \"{:.6f}\".format(loss) + \", Training Accuracy= \" + \\\n",
        "                      \"{:.5f}\".format(acc))   \n",
        "            if i % 100 == 0:\n",
        "                # Calculate accuracy for 128 mnist test images and\n",
        "                #add to summaries\n",
        "                summary, acc = sess.run([merged, accuracy],\n",
        "                                        feed_dict={_inputs: test_data,\n",
        "                                                   y: test_label})\n",
        "                test_writer.add_summary(summary, i)\n",
        "\n",
        "    test_acc = sess.run(accuracy, feed_dict={_inputs: test_data,\n",
        "                                             y: test_label})\n",
        "    print (\"Test Accuracy:\", test_acc)\n",
        "    \n",
        "\n"
      ],
      "execution_count": 8,
      "outputs": [
        {
          "output_type": "stream",
          "text": [
            "Iter 0, Minibatch Loss= 2.301679, Training Accuracy= 12.50000\n",
            "Iter 1000, Minibatch Loss= 1.102104, Training Accuracy= 60.15625\n",
            "Iter 2000, Minibatch Loss= 0.481693, Training Accuracy= 91.40625\n",
            "Iter 3000, Minibatch Loss= 0.241485, Training Accuracy= 93.75000\n",
            "Iter 4000, Minibatch Loss= 0.143607, Training Accuracy= 95.31250\n",
            "Iter 5000, Minibatch Loss= 0.158444, Training Accuracy= 94.53125\n",
            "Iter 6000, Minibatch Loss= 0.218778, Training Accuracy= 93.75000\n",
            "Iter 7000, Minibatch Loss= 0.079276, Training Accuracy= 98.43750\n",
            "Iter 8000, Minibatch Loss= 0.017403, Training Accuracy= 100.00000\n",
            "Iter 9000, Minibatch Loss= 0.069940, Training Accuracy= 96.87500\n",
            "Test Accuracy: 99.21875\n"
          ],
          "name": "stdout"
        }
      ]
    },
    {
      "metadata": {
        "id": "fF1eSWhwEbAR",
        "colab_type": "text"
      },
      "cell_type": "markdown",
      "source": [
        "Visualizing the model with TensorBoard"
      ]
    },
    {
      "metadata": {
        "id": "vDap5fIIEbAS",
        "colab_type": "text"
      },
      "cell_type": "markdown",
      "source": [
        "TensorBoard is an interactive browser-based tool that allows us to visualize the learning process.\n",
        "To run TensorBoard, go to the command terminal and tell TensorBoard where the relevant summaries you logged are:"
      ]
    },
    {
      "metadata": {
        "id": "la8bxfR7EbAT",
        "colab_type": "code",
        "colab": {
          "autoexec": {
            "startup": false,
            "wait_interval": 0
          },
          "base_uri": "https://localhost:8080/",
          "height": 16
        },
        "outputId": "a9cc47e8-60cc-4e93-bac9-aabd4ad68879",
        "executionInfo": {
          "status": "ok",
          "timestamp": 1531006365649,
          "user_tz": -60,
          "elapsed": 718,
          "user": {
            "displayName": "",
            "photoUrl": "",
            "userId": ""
          }
        }
      },
      "cell_type": "code",
      "source": [
        "#tensorboard --logdir=LOG_DIR"
      ],
      "execution_count": 9,
      "outputs": []
    },
    {
      "metadata": {
        "id": "lpcHM2ySEbAa",
        "colab_type": "code",
        "colab": {
          "autoexec": {
            "startup": false,
            "wait_interval": 0
          },
          "base_uri": "https://localhost:8080/",
          "height": 16
        },
        "outputId": "a08bfaf5-6a06-4ed9-f336-920aa1006e04",
        "executionInfo": {
          "status": "ok",
          "timestamp": 1531006376710,
          "user_tz": -60,
          "elapsed": 717,
          "user": {
            "displayName": "",
            "photoUrl": "",
            "userId": ""
          }
        }
      },
      "cell_type": "code",
      "source": [
        "#If you are on Windows use:tensorboard --logdir=rnn_demo:LOG_DIR"
      ],
      "execution_count": 11,
      "outputs": []
    },
    {
      "metadata": {
        "id": "vAlmhWe4EbAf",
        "colab_type": "text"
      },
      "cell_type": "markdown",
      "source": [
        "TensorBoard allows us to assign names to individual log directories by putting a colon between the name and the path, which may\n",
        "be useful when working with multiple log directories. In such a case, we pass a comma-seperated list of log directories as follows-"
      ]
    },
    {
      "metadata": {
        "id": "jaQWeUyREbAg",
        "colab_type": "code",
        "colab": {
          "autoexec": {
            "startup": false,
            "wait_interval": 0
          },
          "base_uri": "https://localhost:8080/",
          "height": 16
        },
        "outputId": "225b7c2e-4e8e-40df-a430-497c761c4706",
        "executionInfo": {
          "status": "ok",
          "timestamp": 1531006383352,
          "user_tz": -60,
          "elapsed": 704,
          "user": {
            "displayName": "",
            "photoUrl": "",
            "userId": ""
          }
        }
      },
      "cell_type": "code",
      "source": [
        "#tensorboard --logdir=rnn_demo1:LOG_DIR1, rnn_demo2:LOG_DIR2"
      ],
      "execution_count": 12,
      "outputs": []
    },
    {
      "metadata": {
        "id": "kFdvE8YbEbAk",
        "colab_type": "text"
      },
      "cell_type": "markdown",
      "source": [
        "To start the tensorboard, go to the directory containing the log and run the tensorboard command in the terminal"
      ]
    },
    {
      "metadata": {
        "id": "TrQ2SoAHEbAl",
        "colab_type": "code",
        "colab": {
          "autoexec": {
            "startup": false,
            "wait_interval": 0
          },
          "base_uri": "https://localhost:8080/",
          "height": 16
        },
        "outputId": "76e13c17-0fe0-465a-879f-0fa8efa0ce9a",
        "executionInfo": {
          "status": "ok",
          "timestamp": 1531006385483,
          "user_tz": -60,
          "elapsed": 729,
          "user": {
            "displayName": "",
            "photoUrl": "",
            "userId": ""
          }
        }
      },
      "cell_type": "code",
      "source": [
        "#Starting TensorBoard b'39' on port 6006\n",
        "#(You can navigate to http://10.100.102.4:6006)"
      ],
      "execution_count": 13,
      "outputs": []
    },
    {
      "metadata": {
        "id": "xTLMtnLLEbAn",
        "colab_type": "text"
      },
      "cell_type": "markdown",
      "source": [
        "# TensorFlow Built-in RNN Functions"
      ]
    },
    {
      "metadata": {
        "id": "xVz05MIfEbAp",
        "colab_type": "code",
        "colab": {
          "autoexec": {
            "startup": false,
            "wait_interval": 0
          },
          "base_uri": "https://localhost:8080/",
          "height": 83
        },
        "outputId": "7f873ce6-4d71-4483-a9ce-1bba9fe3aa86",
        "executionInfo": {
          "status": "ok",
          "timestamp": 1531006388393,
          "user_tz": -60,
          "elapsed": 1265,
          "user": {
            "displayName": "",
            "photoUrl": "",
            "userId": ""
          }
        }
      },
      "cell_type": "code",
      "source": [
        "import tensorflow as tf\n",
        "from tensorflow.examples.tutorials.mnist import input_data\n",
        "mnist = input_data.read_data_sets(\"/tmp/data/\", one_hot=True)\n",
        "\n"
      ],
      "execution_count": 14,
      "outputs": [
        {
          "output_type": "stream",
          "text": [
            "Extracting /tmp/data/train-images-idx3-ubyte.gz\n",
            "Extracting /tmp/data/train-labels-idx1-ubyte.gz\n",
            "Extracting /tmp/data/t10k-images-idx3-ubyte.gz\n",
            "Extracting /tmp/data/t10k-labels-idx1-ubyte.gz\n"
          ],
          "name": "stdout"
        }
      ]
    },
    {
      "metadata": {
        "id": "kjePs0RxEbAs",
        "colab_type": "code",
        "colab": {
          "autoexec": {
            "startup": false,
            "wait_interval": 0
          },
          "base_uri": "https://localhost:8080/",
          "height": 100
        },
        "outputId": "014150ff-0506-4ef3-e8ed-2f475bd6f81b",
        "executionInfo": {
          "status": "ok",
          "timestamp": 1531006507096,
          "user_tz": -60,
          "elapsed": 118193,
          "user": {
            "displayName": "",
            "photoUrl": "",
            "userId": ""
          }
        }
      },
      "cell_type": "code",
      "source": [
        "element_size = 28; time_steps= 28; num_classes =10\n",
        "batch_size = 128; hidden_layer_size = 128\n",
        "\n",
        "_inputs = tf.placeholder(tf.float32,shape=[None, time_steps,\n",
        "element_size],\n",
        "name='inputs')\n",
        "y = tf.placeholder(tf.float32, shape=[None, num_classes],name='inputs')\n",
        "\n",
        "# TensorFlow built-in functions\n",
        "rnn_cell = tf.contrib.rnn.BasicRNNCell(hidden_layer_size)\n",
        "outputs, _ = tf.nn.dynamic_rnn(rnn_cell, _inputs, dtype=tf.float32)\n",
        "\n",
        "Wl = tf.Variable(tf.truncated_normal([hidden_layer_size, num_classes],\n",
        "mean=0,stddev=.01))\n",
        "bl = tf.Variable(tf.truncated_normal([num_classes],mean=0,stddev=.01))\n",
        "\n",
        "\n",
        "\n",
        "def get_linear_layer(vector):\n",
        "    return tf.matmul(vector, Wl) + bl\n",
        "\n",
        "last_rnn_output = outputs[:,-1,:]\n",
        "final_output = get_linear_layer(last_rnn_output)\n",
        "softmax = tf.nn.softmax_cross_entropy_with_logits(logits=final_output,\n",
        "labels=y)\n",
        "cross_entropy = tf.reduce_mean(softmax)\n",
        "train_step = tf.train.RMSPropOptimizer(0.001, 0.9).minimize(cross_entropy)\n",
        "correct_prediction = tf.equal(tf.argmax(y,1), tf.argmax(final_output,1))\n",
        "accuracy = (tf.reduce_mean(tf.cast(correct_prediction, tf.float32)))*100\n",
        "sess=tf.InteractiveSession()\n",
        "sess.run(tf.global_variables_initializer())\n",
        "test_data = mnist.test.images[:batch_size].reshape((-1,time_steps, element_size))\n",
        "test_label = mnist.test.labels[:batch_size]\n",
        "\n",
        "\n",
        "for i in range(3001):\n",
        "        batch_x, batch_y = mnist.train.next_batch(batch_size)\n",
        "        batch_x = batch_x.reshape((batch_size, time_steps, element_size))\n",
        "        sess.run(train_step,feed_dict={_inputs:batch_x,y:batch_y})\n",
        "        \n",
        "        if i % 1000 == 0:\n",
        "                acc = sess.run(accuracy, feed_dict={_inputs: batch_x,y: batch_y})\n",
        "                loss = sess.run(cross_entropy,feed_dict={_inputs:batch_x,y:batch_y})\n",
        "                print(\"Iter \" + str(i) + \", Minibatch Loss= \" + \\\n",
        "                          \"{:.6f}\".format(loss) + \", Training Accuracy= \" + \\\n",
        "                          \"{:.5f}\".format(acc))\n",
        "print(\"Testing Accuracy:\",\n",
        "        sess.run(accuracy, feed_dict={_inputs: test_data, y: test_label}))\n",
        "  \n",
        "\n"
      ],
      "execution_count": 15,
      "outputs": [
        {
          "output_type": "stream",
          "text": [
            "Iter 0, Minibatch Loss= 2.306230, Training Accuracy= 14.06250\n",
            "Iter 1000, Minibatch Loss= 0.402522, Training Accuracy= 87.50000\n",
            "Iter 2000, Minibatch Loss= 0.146851, Training Accuracy= 96.09375\n",
            "Iter 3000, Minibatch Loss= 0.092396, Training Accuracy= 99.21875\n",
            "Testing Accuracy: 99.21875\n"
          ],
          "name": "stdout"
        }
      ]
    },
    {
      "metadata": {
        "id": "r2l_nKMQEbAy",
        "colab_type": "code",
        "colab": {
          "autoexec": {
            "startup": false,
            "wait_interval": 0
          }
        }
      },
      "cell_type": "code",
      "source": [
        ""
      ],
      "execution_count": 0,
      "outputs": []
    },
    {
      "metadata": {
        "id": "Gld75bFzEbA1",
        "colab_type": "code",
        "colab": {
          "autoexec": {
            "startup": false,
            "wait_interval": 0
          }
        }
      },
      "cell_type": "code",
      "source": [
        ""
      ],
      "execution_count": 0,
      "outputs": []
    }
  ]
}